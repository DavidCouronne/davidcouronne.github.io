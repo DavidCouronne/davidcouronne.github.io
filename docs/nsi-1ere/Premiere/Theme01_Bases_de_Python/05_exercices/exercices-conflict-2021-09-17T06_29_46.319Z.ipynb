{
 "cells": [
  {
   "cell_type": "code",
   "execution_count": null,
   "source": [],
   "outputs": [],
   "metadata": {}
  },
  {
   "cell_type": "markdown",
   "source": [
    "### Exercice 3"
   ],
   "metadata": {}
  },
  {
   "cell_type": "markdown",
   "source": [
    "On appelle triplets pythagoricien 3 nombres entiers $a$, $b$ et $c$ tels que $a^2+b^2=c^2$.  \r\n",
    "Le triplet le plus connu est (3,4,5) car $3^2+4^2=5^2$.\r\n",
    "1. Rechercher tous les triplets pythagoriciens pour les nombres inférieurs à 100.\r\n",
    "2. Modifier votre programme pour éliminer les doublons."
   ],
   "metadata": {}
  }
 ],
 "metadata": {
  "orig_nbformat": 4,
  "language_info": {
   "name": "python"
  }
 },
 "nbformat": 4,
 "nbformat_minor": 2
}