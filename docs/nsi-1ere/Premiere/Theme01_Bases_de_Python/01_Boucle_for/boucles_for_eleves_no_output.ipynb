{
 "cells": [
  {
   "cell_type": "markdown",
   "source": [
    "# Boucles bornées"
   ],
   "metadata": {}
  },
  {
   "cell_type": "markdown",
   "source": [
    "## Parcours d'éléments énumérables"
   ],
   "metadata": {}
  },
  {
   "cell_type": "code",
   "execution_count": null,
   "source": [
    "for i in [\"lundi\",\"mardi\",\"mercredi\"]:\r\n",
    "    print(i)"
   ],
   "outputs": [],
   "metadata": {}
  },
  {
   "cell_type": "code",
   "execution_count": null,
   "source": [
    "for k in \"bonjour\":\r\n",
    "    print(k)"
   ],
   "outputs": [],
   "metadata": {}
  },
  {
   "cell_type": "markdown",
   "source": [
    "### Exercice 1"
   ],
   "metadata": {}
  },
  {
   "cell_type": "markdown",
   "source": [
    "L'instruction `ord()` permet de trouver le code ASCII d'un caractère.  \n",
    "Exemple :"
   ],
   "metadata": {}
  },
  {
   "cell_type": "code",
   "execution_count": null,
   "source": [
    "ord(\"A\")"
   ],
   "outputs": [],
   "metadata": {}
  },
  {
   "cell_type": "markdown",
   "source": [
    "Inversement, l'instruction `chr()` permet de retrouver un caractère à partir du code ASCII.  \n",
    "Exemple :"
   ],
   "metadata": {}
  },
  {
   "cell_type": "code",
   "execution_count": null,
   "source": [
    "chr(78)"
   ],
   "outputs": [],
   "metadata": {}
  },
  {
   "cell_type": "markdown",
   "source": [
    "Décoder la phrase mystère ci-dessous, en utilisant une boucle `for`."
   ],
   "metadata": {}
  },
  {
   "cell_type": "code",
   "execution_count": null,
   "source": [
    "mystere = [111,107,44,32,98,105,101,110,32,106,111,117,233]"
   ],
   "outputs": [],
   "metadata": {}
  },
  {
   "cell_type": "code",
   "execution_count": null,
   "source": [],
   "outputs": [],
   "metadata": {}
  },
  {
   "cell_type": "markdown",
   "source": [
    "## Génération de séquences numériques"
   ],
   "metadata": {}
  },
  {
   "cell_type": "code",
   "execution_count": null,
   "source": [
    "for k in range(1,10,2):\r\n",
    "    print(k)"
   ],
   "outputs": [],
   "metadata": {}
  },
  {
   "cell_type": "markdown",
   "source": [
    "La fonction `range()` reçoit donc 3 arguments : `range(start,end,step)`\n",
    "- la valeur `start` est la valeur de départ. Elle est optionnelle (valeur par défaut : 0).\n",
    "- la valeur `end` n'est JAMAIS prise.\n",
    "- la valeur `step` est le pas de progression. Elle est optionnelle (valeur par défaut : 1)."
   ],
   "metadata": {}
  },
  {
   "cell_type": "code",
   "execution_count": null,
   "source": [
    "for k in range(1,12):\r\n",
    "    print(k)"
   ],
   "outputs": [],
   "metadata": {
    "hide_input": false
   }
  },
  {
   "cell_type": "code",
   "execution_count": null,
   "source": [
    "for k in range(5):\r\n",
    "    print(k)"
   ],
   "outputs": [],
   "metadata": {}
  },
  {
   "cell_type": "markdown",
   "source": [
    "### Exercice 2"
   ],
   "metadata": {}
  },
  {
   "cell_type": "markdown",
   "source": [
    "Créer les suites de nombres suivantes :\n",
    "- 3,5,7,9,11,13\n",
    "- -15,-10,-5,0,5\n",
    "- 10,7,4,1"
   ],
   "metadata": {}
  },
  {
   "cell_type": "code",
   "execution_count": null,
   "source": [],
   "outputs": [],
   "metadata": {}
  },
  {
   "cell_type": "markdown",
   "source": [
    "## Boucles bornées"
   ],
   "metadata": {}
  },
  {
   "cell_type": "markdown",
   "source": [
    "Dans les exemples précédents, les valeurs parcourues ont été séquentiellement affichées. Ce n'est pas obligatoire. "
   ],
   "metadata": {}
  },
  {
   "cell_type": "code",
   "execution_count": null,
   "source": [
    "for k in range(3):\r\n",
    "    print(\"bonjour\")"
   ],
   "outputs": [],
   "metadata": {}
  },
  {
   "cell_type": "markdown",
   "source": [
    "On dit que la variable `k` est une variable muette. Elle a servi de compteur, sans être affichée."
   ],
   "metadata": {}
  },
  {
   "cell_type": "markdown",
   "source": [
    "## Boucles bornées imbriquées"
   ],
   "metadata": {}
  },
  {
   "cell_type": "code",
   "execution_count": null,
   "source": [
    "for a in range(3):\r\n",
    "    for b in range(5):\r\n",
    "        print(a, \" fois \", b, \" égale \", a*b)"
   ],
   "outputs": [],
   "metadata": {}
  }
 ],
 "metadata": {
  "kernelspec": {
   "display_name": "Python 3",
   "language": "python",
   "name": "python3"
  },
  "language_info": {
   "codemirror_mode": {
    "name": "ipython",
    "version": 3
   },
   "file_extension": ".py",
   "mimetype": "text/x-python",
   "name": "python",
   "nbconvert_exporter": "python",
   "pygments_lexer": "ipython3",
   "version": "3.6.9"
  },
  "toc": {
   "base_numbering": 1,
   "nav_menu": {},
   "number_sections": true,
   "sideBar": true,
   "skip_h1_title": false,
   "title_cell": "Table of Contents",
   "title_sidebar": "Contents",
   "toc_cell": false,
   "toc_position": {},
   "toc_section_display": true,
   "toc_window_display": false
  }
 },
 "nbformat": 4,
 "nbformat_minor": 2
}